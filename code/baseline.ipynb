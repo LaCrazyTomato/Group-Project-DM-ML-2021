{
  "nbformat": 4,
  "nbformat_minor": 0,
  "metadata": {
    "colab": {
      "name": "first_approach.ipynb",
      "provenance": [],
      "collapsed_sections": [],
      "toc_visible": true
    },
    "kernelspec": {
      "name": "python3",
      "display_name": "Python 3"
    },
    "language_info": {
      "name": "python"
    }
  },
  "cells": [
    {
      "cell_type": "markdown",
      "source": [
        "#[Detecting the difficulty level of French texts](https://www.kaggle.com/c/detecting-the-difficulty-level-of-french-texts/overview/evaluation)\n",
        "## First approach\n",
        "---\n",
        "In this notebook, we will try differents classification models with very basic text cleaning and no hyper-parameters tuning. This will allow us to have a baseline and to select the most promising models for further study."
      ],
      "metadata": {
        "id": "N_RiVVpbjH5S"
      }
    },
    {
      "cell_type": "markdown",
      "source": [
        "## Imports"
      ],
      "metadata": {
        "id": "COY6AhzOmP9P"
      }
    },
    {
      "cell_type": "code",
      "execution_count": null,
      "metadata": {
        "id": "75xVb0uwKgPZ"
      },
      "outputs": [],
      "source": [
        "# Download the french spacy model\n",
        "!python -m spacy download fr_core_news_md"
      ]
    },
    {
      "cell_type": "code",
      "source": [
        "import warnings\n",
        "warnings.filterwarnings('ignore')\n",
        "import pandas as pd\n",
        "import spacy\n",
        "from spacy import displacy\n",
        "import string\n",
        "import numpy as np\n",
        "import string\n",
        "import matplotlib.pyplot as plt\n",
        "import seaborn as sns\n",
        "from sklearn.base import TransformerMixin\n",
        "from sklearn.pipeline import Pipeline\n",
        "from sklearn.preprocessing import OrdinalEncoder, OneHotEncoder, LabelEncoder\n",
        "from spacy.lang.en.stop_words import STOP_WORDS\n",
        "from spacy.lang.en import English\n",
        "from sklearn.model_selection import train_test_split\n",
        "from sklearn.ensemble import RandomForestClassifier\n",
        "from sklearn.linear_model import LogisticRegression, LogisticRegressionCV\n",
        "from sklearn.svm import LinearSVC\n",
        "from sklearn.feature_extraction.text import CountVectorizer, TfidfVectorizer\n",
        "from sklearn.utils.multiclass import unique_labels\n",
        "from sklearn.neighbors import KNeighborsClassifier\n",
        "from sklearn.tree import DecisionTreeClassifier\n",
        "from sklearn.metrics import recall_score, precision_score, f1_score, accuracy_score, confusion_matrix, ConfusionMatrixDisplay\n",
        "import re\n",
        "import nltk\n",
        "from nltk.tokenize import word_tokenize\n",
        "from nltk.stem import PorterStemmer, SnowballStemmer, WordNetLemmatizer\n",
        "nltk.download('punkt')\n",
        "np.random.seed = 0\n",
        "\n",
        "def evaluate(y_true, pred):\n",
        "  \"\"\"\n",
        "  Calculate the models performance metrics. \n",
        "  Since it is a multi-class classification, we take the weighted average \n",
        "  for the metrics that are calculated for each class.\n",
        "\n",
        "  \"\"\"\n",
        "\n",
        "  report = {\n",
        "      'accuracy':accuracy_score(y_true, pred),\n",
        "      'recall':recall_score(y_true, pred, average='macro'),\n",
        "      'precision':precision_score(y_true, pred, average='macro'),\n",
        "      'f1_score':f1_score(y_true, pred, average='macro')\n",
        "  }\n",
        "\n",
        "  return report\n",
        "\n",
        "def plot_confusion_matrix(y_true, pred, model):\n",
        "  \n",
        "  \"\"\"\n",
        "  A function to plot the models confusion matrix.\n",
        "  \"\"\"\n",
        "\n",
        "  cf_matrix = confusion_matrix(y_test, pred)\n",
        "\n",
        "  disp = ConfusionMatrixDisplay(confusion_matrix=cf_matrix,\n",
        "                              display_labels=model.classes_)\n",
        "    \n",
        "  disp.plot()\n",
        "\n",
        "\n",
        "reports = {}\n"
      ],
      "metadata": {
        "colab": {
          "base_uri": "https://localhost:8080/"
        },
        "id": "5op1HwIzLDjY",
        "outputId": "55f0804f-e624-40e7-8f60-add30ed9b9b9"
      },
      "execution_count": 11,
      "outputs": [
        {
          "output_type": "stream",
          "name": "stdout",
          "text": [
            "[nltk_data] Downloading package punkt to /root/nltk_data...\n",
            "[nltk_data]   Package punkt is already up-to-date!\n"
          ]
        }
      ]
    },
    {
      "cell_type": "code",
      "source": [
        "df = pd.read_csv(\"https://raw.githubusercontent.com/LaCrazyTomato/Group-Project-DM-ML-2021/main/data/training_data.csv\")\n",
        "unlabeled_df = pd.read_csv(\"https://raw.githubusercontent.com/LaCrazyTomato/Group-Project-DM-ML-2021/main/data/unlabelled_test_data.csv\")\n",
        "\n",
        "display(df.head())\n",
        "display(unlabeled_df.head())\n"
      ],
      "metadata": {
        "colab": {
          "base_uri": "https://localhost:8080/",
          "height": 395
        },
        "id": "O6Biw4qljyDx",
        "outputId": "c7e80b14-dec1-43f9-bce1-2e88390651b0"
      },
      "execution_count": 2,
      "outputs": [
        {
          "output_type": "display_data",
          "data": {
            "text/html": [
              "<div>\n",
              "<style scoped>\n",
              "    .dataframe tbody tr th:only-of-type {\n",
              "        vertical-align: middle;\n",
              "    }\n",
              "\n",
              "    .dataframe tbody tr th {\n",
              "        vertical-align: top;\n",
              "    }\n",
              "\n",
              "    .dataframe thead th {\n",
              "        text-align: right;\n",
              "    }\n",
              "</style>\n",
              "<table border=\"1\" class=\"dataframe\">\n",
              "  <thead>\n",
              "    <tr style=\"text-align: right;\">\n",
              "      <th></th>\n",
              "      <th>id</th>\n",
              "      <th>sentence</th>\n",
              "      <th>difficulty</th>\n",
              "    </tr>\n",
              "  </thead>\n",
              "  <tbody>\n",
              "    <tr>\n",
              "      <th>0</th>\n",
              "      <td>0</td>\n",
              "      <td>Les coûts kilométriques réels peuvent diverger...</td>\n",
              "      <td>C1</td>\n",
              "    </tr>\n",
              "    <tr>\n",
              "      <th>1</th>\n",
              "      <td>1</td>\n",
              "      <td>Le bleu, c'est ma couleur préférée mais je n'a...</td>\n",
              "      <td>A1</td>\n",
              "    </tr>\n",
              "    <tr>\n",
              "      <th>2</th>\n",
              "      <td>2</td>\n",
              "      <td>Le test de niveau en français est sur le site ...</td>\n",
              "      <td>A1</td>\n",
              "    </tr>\n",
              "    <tr>\n",
              "      <th>3</th>\n",
              "      <td>3</td>\n",
              "      <td>Est-ce que ton mari est aussi de Boston?</td>\n",
              "      <td>A1</td>\n",
              "    </tr>\n",
              "    <tr>\n",
              "      <th>4</th>\n",
              "      <td>4</td>\n",
              "      <td>Dans les écoles de commerce, dans les couloirs...</td>\n",
              "      <td>B1</td>\n",
              "    </tr>\n",
              "  </tbody>\n",
              "</table>\n",
              "</div>"
            ],
            "text/plain": [
              "   id                                           sentence difficulty\n",
              "0   0  Les coûts kilométriques réels peuvent diverger...         C1\n",
              "1   1  Le bleu, c'est ma couleur préférée mais je n'a...         A1\n",
              "2   2  Le test de niveau en français est sur le site ...         A1\n",
              "3   3           Est-ce que ton mari est aussi de Boston?         A1\n",
              "4   4  Dans les écoles de commerce, dans les couloirs...         B1"
            ]
          },
          "metadata": {}
        },
        {
          "output_type": "display_data",
          "data": {
            "text/html": [
              "<div>\n",
              "<style scoped>\n",
              "    .dataframe tbody tr th:only-of-type {\n",
              "        vertical-align: middle;\n",
              "    }\n",
              "\n",
              "    .dataframe tbody tr th {\n",
              "        vertical-align: top;\n",
              "    }\n",
              "\n",
              "    .dataframe thead th {\n",
              "        text-align: right;\n",
              "    }\n",
              "</style>\n",
              "<table border=\"1\" class=\"dataframe\">\n",
              "  <thead>\n",
              "    <tr style=\"text-align: right;\">\n",
              "      <th></th>\n",
              "      <th>id</th>\n",
              "      <th>sentence</th>\n",
              "    </tr>\n",
              "  </thead>\n",
              "  <tbody>\n",
              "    <tr>\n",
              "      <th>0</th>\n",
              "      <td>0</td>\n",
              "      <td>Nous dûmes nous excuser des propos que nous eû...</td>\n",
              "    </tr>\n",
              "    <tr>\n",
              "      <th>1</th>\n",
              "      <td>1</td>\n",
              "      <td>Vous ne pouvez pas savoir le plaisir que j'ai ...</td>\n",
              "    </tr>\n",
              "    <tr>\n",
              "      <th>2</th>\n",
              "      <td>2</td>\n",
              "      <td>Et, paradoxalement, boire froid n'est pas la b...</td>\n",
              "    </tr>\n",
              "    <tr>\n",
              "      <th>3</th>\n",
              "      <td>3</td>\n",
              "      <td>Ce n'est pas étonnant, car c'est une saison my...</td>\n",
              "    </tr>\n",
              "    <tr>\n",
              "      <th>4</th>\n",
              "      <td>4</td>\n",
              "      <td>Le corps de Golo lui-même, d'une essence aussi...</td>\n",
              "    </tr>\n",
              "  </tbody>\n",
              "</table>\n",
              "</div>"
            ],
            "text/plain": [
              "   id                                           sentence\n",
              "0   0  Nous dûmes nous excuser des propos que nous eû...\n",
              "1   1  Vous ne pouvez pas savoir le plaisir que j'ai ...\n",
              "2   2  Et, paradoxalement, boire froid n'est pas la b...\n",
              "3   3  Ce n'est pas étonnant, car c'est une saison my...\n",
              "4   4  Le corps de Golo lui-même, d'une essence aussi..."
            ]
          },
          "metadata": {}
        }
      ]
    },
    {
      "cell_type": "markdown",
      "source": [
        "# 2. Tokenizer & vectorizer\n"
      ],
      "metadata": {
        "id": "eM0Vua6fncrm"
      }
    },
    {
      "cell_type": "code",
      "source": [
        "# Define cleaning function\n",
        "def nltk_tokenizer(doc):\n",
        "\n",
        "    # Tokenize\n",
        "    doc = word_tokenize(doc)\n",
        "\n",
        "    # Remove uppercase and white spaces\n",
        "    doc = [word.lower().strip() for word in doc]\n",
        "    \n",
        "    return doc\n",
        "\n",
        "\n",
        "print(nltk_tokenizer(df.loc[2, 'sentence']))"
      ],
      "metadata": {
        "colab": {
          "base_uri": "https://localhost:8080/"
        },
        "id": "IRrlKPK5nXW2",
        "outputId": "23560b6e-be0d-40b5-b685-b567e0e6032f"
      },
      "execution_count": 4,
      "outputs": [
        {
          "output_type": "stream",
          "name": "stdout",
          "text": [
            "['le', 'test', 'de', 'niveau', 'en', 'français', 'est', 'sur', 'le', 'site', 'internet', 'de', \"l'école\", '.']\n"
          ]
        }
      ]
    },
    {
      "cell_type": "markdown",
      "source": [
        "We selected a TFIDF vectorizer because it gives more importance to rare words and we believe that a rare word can be a sign of complexity."
      ],
      "metadata": {
        "id": "fGdmku34oHKw"
      }
    },
    {
      "cell_type": "code",
      "source": [
        "tfidf_vectorizer = TfidfVectorizer(tokenizer=nltk_tokenizer)"
      ],
      "metadata": {
        "id": "rmPoXw-wjyj0"
      },
      "execution_count": 5,
      "outputs": []
    },
    {
      "cell_type": "markdown",
      "source": [
        "# 3. Classification\n",
        "We are now ready to test the different classification models. We will start with the ones we have seen in class and then we will try others provided by Sklearn."
      ],
      "metadata": {
        "id": "UQPs14Sdouxi"
      }
    },
    {
      "cell_type": "code",
      "source": [
        "# Select features\n",
        "X = df['sentence']\n",
        "y = df['difficulty']\n",
        "\n",
        "# Train test split\n",
        "X_train, X_test, y_train, y_test = train_test_split(X, y, test_size=0.2, random_state=0, stratify=y)\n",
        "\n",
        "X_train"
      ],
      "metadata": {
        "colab": {
          "base_uri": "https://localhost:8080/"
        },
        "id": "PB5ldcpTpQ_e",
        "outputId": "8c26b9ec-47a4-42cc-fd10-8cf7b0bbe210"
      },
      "execution_count": 6,
      "outputs": [
        {
          "output_type": "execute_result",
          "data": {
            "text/plain": [
              "183     Vous attendîtes la surprise que vos parents vo...\n",
              "90                      Le petit chat a plu à mes parents\n",
              "1128    Pourfendeur des sciences et des arts, fossoyeu...\n",
              "2336    un berger est une personne chargée de guider e...\n",
              "4398    Pendant les trois années d'études, je vivais d...\n",
              "                              ...                        \n",
              "3983    La Corse est une petite île au sud de la Franc...\n",
              "1870                             Ma mère s'appelle Marie.\n",
              "394     Le journaliste lui a posé des questions auxque...\n",
              "3244    Les sentiments de l'homme sont confus et mélan...\n",
              "411     Il n'engendre aucun mouvement alternatif, ce q...\n",
              "Name: sentence, Length: 3840, dtype: object"
            ]
          },
          "metadata": {},
          "execution_count": 6
        }
      ]
    },
    {
      "cell_type": "markdown",
      "source": [
        "## Logistic Regression"
      ],
      "metadata": {
        "id": "xm7gkyMnqUu9"
      }
    },
    {
      "cell_type": "code",
      "source": [
        "# Define classifier\n",
        "LR_model = LogisticRegression()\n",
        "\n",
        "LR_pipe = Pipeline([('vectorizer', tfidf_vectorizer),\n",
        "                 ('classifier', LR_model)])\n",
        "\n",
        "LR_pipe.fit(X_train, y_train)\n",
        "\n",
        "pred = LR_pipe.predict(X_test)\n",
        "\n",
        "LR_report = evaluate(y_test, pred)\n",
        "\n",
        "# Store model performance results\n",
        "reports['Logistic Regression'] = LR_report\n",
        "\n",
        "LR_report"
      ],
      "metadata": {
        "colab": {
          "base_uri": "https://localhost:8080/"
        },
        "id": "R3AihGuqqC-g",
        "outputId": "03c95508-e005-4566-c3c3-2bf99420dfbb"
      },
      "execution_count": 7,
      "outputs": [
        {
          "output_type": "execute_result",
          "data": {
            "text/plain": [
              "{'accuracy': 0.47291666666666665,\n",
              " 'f1_score': 0.4664396688704459,\n",
              " 'precision': 0.46877502680753586,\n",
              " 'recall': 0.4718692027845621}"
            ]
          },
          "metadata": {},
          "execution_count": 7
        }
      ]
    },
    {
      "cell_type": "code",
      "source": [
        "plot_confusion_matrix(y_test, pred, LR_pipe)"
      ],
      "metadata": {
        "colab": {
          "base_uri": "https://localhost:8080/",
          "height": 279
        },
        "id": "lsUX13wlTx1V",
        "outputId": "df803c69-9e39-4261-a679-7dd8464816ca"
      },
      "execution_count": 12,
      "outputs": [
        {
          "output_type": "display_data",
          "data": {
            "image/png": "[encoded data removed]",
            "text/plain": [
              "<Figure size 432x288 with 2 Axes>"
            ]
          },
          "metadata": {
            "needs_background": "light"
          }
        }
      ]
    },
    {
      "cell_type": "markdown",
      "source": [
        "Let's look at some errors to maybe understand better why the model gets it wrong."
      ],
      "metadata": {
        "id": "dqxqrXx5-I3Y"
      }
    },
    {
      "cell_type": "code",
      "source": [
        "badly_predicted = pd.DataFrame({'sentence':X_test[pred != y_test],\n",
        "              'predicted':pred[pred != y_test],\n",
        "              'true':y_test[pred != y_test]})\n",
        "\n",
        "\n",
        "for i, row in badly_predicted.sample(3).iterrows():\n",
        "    print(row.sentence)\n",
        "    print(f\"Predicted: {row.predicted}\")\n",
        "    print(f\"Actual: {row.true}\")\n",
        "\n"
      ],
      "metadata": {
        "colab": {
          "base_uri": "https://localhost:8080/"
        },
        "id": "s5V65JWtOeUT",
        "outputId": "00894093-f46e-4b7c-dc7d-75100f54672f"
      },
      "execution_count": null,
      "outputs": [
        {
          "output_type": "stream",
          "name": "stdout",
          "text": [
            "Je pense que fréquenter les galeries est la meilleure manière d'éduquer son oeil à l'art contemporain.\n",
            "Predicted: A2\n",
            "Actual: B2\n",
            "Si tu pars en vacances avec nous, je serais ravie.\n",
            "Predicted: A1\n",
            "Actual: B1\n",
            "Je vais étudier l'anglais\n",
            "Predicted: A2\n",
            "Actual: A1\n"
          ]
        }
      ]
    },
    {
      "cell_type": "markdown",
      "source": [
        "Hard to tell where the errors comes from.. Probably the vectorizer has to be tuned."
      ],
      "metadata": {
        "id": "LFIe_zy--2F5"
      }
    },
    {
      "cell_type": "markdown",
      "source": [
        "## kNN"
      ],
      "metadata": {
        "id": "iGGyk5QhrQmX"
      }
    },
    {
      "cell_type": "code",
      "source": [
        "knn_model = KNeighborsClassifier()\n",
        "\n",
        "knn_pipe = Pipeline([('vectorizer', tfidf_vectorizer),\n",
        "                 ('classifier', knn_model)])\n",
        "\n",
        "\n",
        "knn_pipe.fit(X_train, y_train)\n",
        "\n",
        "pred = knn_pipe.predict(X_test)\n",
        "\n",
        "knn_report = evaluate(y_test, pred)\n",
        "\n",
        "# Store model performance results\n",
        "reports['kNN'] = knn_report\n",
        "\n",
        "\n",
        "knn_report"
      ],
      "metadata": {
        "colab": {
          "base_uri": "https://localhost:8080/"
        },
        "id": "qKYVQieZrT1I",
        "outputId": "3124b1a6-5a2a-4c2c-beca-3110ea955d9d"
      },
      "execution_count": 13,
      "outputs": [
        {
          "output_type": "execute_result",
          "data": {
            "text/plain": [
              "{'accuracy': 0.35104166666666664,\n",
              " 'f1_score': 0.32624310727699596,\n",
              " 'precision': 0.39461812640832467,\n",
              " 'recall': 0.3490178912029139}"
            ]
          },
          "metadata": {},
          "execution_count": 13
        }
      ]
    },
    {
      "cell_type": "code",
      "source": [
        "plot_confusion_matrix(y_test, pred, knn_pipe)"
      ],
      "metadata": {
        "colab": {
          "base_uri": "https://localhost:8080/",
          "height": 279
        },
        "id": "qE2JXI37Xm6O",
        "outputId": "290459fa-4874-4d80-9bb7-65d87948b6a9"
      },
      "execution_count": 14,
      "outputs": [
        {
          "output_type": "display_data",
          "data": {
            "image/png": "[encoded data removed]",
            "text/plain": [
              "<Figure size 432x288 with 2 Axes>"
            ]
          },
          "metadata": {
            "needs_background": "light"
          }
        }
      ]
    },
    {
      "cell_type": "markdown",
      "source": [
        "## Decision Tree"
      ],
      "metadata": {
        "id": "jphWEW4xrcaj"
      }
    },
    {
      "cell_type": "code",
      "source": [
        "tree_model = DecisionTreeClassifier()\n",
        "\n",
        "tree_pipe = Pipeline([('vectorizer', tfidf_vectorizer),\n",
        "                 ('classifier', tree_model)])\n",
        "\n",
        "\n",
        "tree_pipe.fit(X_train, y_train)\n",
        "\n",
        "pred = tree_pipe.predict(X_test)\n",
        "\n",
        "tree_report = evaluate(y_test, pred)\n",
        "\n",
        "# Store model performance results\n",
        "reports['Decision Tree'] = tree_report\n",
        "\n",
        "tree_report"
      ],
      "metadata": {
        "colab": {
          "base_uri": "https://localhost:8080/"
        },
        "id": "sYToNY6qrfXb",
        "outputId": "66001c88-c771-4d35-a153-da36aaac5c4c"
      },
      "execution_count": 15,
      "outputs": [
        {
          "output_type": "execute_result",
          "data": {
            "text/plain": [
              "{'accuracy': 0.3072916666666667,\n",
              " 'f1_score': 0.3019538636010634,\n",
              " 'precision': 0.3040673712896869,\n",
              " 'recall': 0.3064749332040397}"
            ]
          },
          "metadata": {},
          "execution_count": 15
        }
      ]
    },
    {
      "cell_type": "code",
      "source": [
        "plot_confusion_matrix(y_test, pred, tree_pipe)"
      ],
      "metadata": {
        "colab": {
          "base_uri": "https://localhost:8080/",
          "height": 279
        },
        "id": "M2Z_s-wgXum3",
        "outputId": "0fae7c0d-3d80-4988-bb77-194e74865088"
      },
      "execution_count": 16,
      "outputs": [
        {
          "output_type": "display_data",
          "data": {
            "image/png": "[encoded data removed]",
            "text/plain": [
              "<Figure size 432x288 with 2 Axes>"
            ]
          },
          "metadata": {
            "needs_background": "light"
          }
        }
      ]
    },
    {
      "cell_type": "markdown",
      "source": [
        "## Random Forest"
      ],
      "metadata": {
        "id": "R15uSY0JrgBa"
      }
    },
    {
      "cell_type": "code",
      "source": [
        "forest_model = RandomForestClassifier()\n",
        "\n",
        "forest_pipe = Pipeline([('vectorizer', tfidf_vectorizer),\n",
        "                 ('classifier', forest_model)])\n",
        "\n",
        "forest_pipe.fit(X_train, y_train)\n",
        "\n",
        "pred = forest_pipe.predict(X_test)\n",
        "\n",
        "forest_report = evaluate(y_test, pred)\n",
        "\n",
        "# Store model performance results\n",
        "reports['Random Forest'] = forest_report\n",
        "\n",
        "forest_report"
      ],
      "metadata": {
        "colab": {
          "base_uri": "https://localhost:8080/"
        },
        "id": "yYubHktXriDP",
        "outputId": "f45f1e9e-f066-4b86-af44-0d0fa5440dd0"
      },
      "execution_count": 18,
      "outputs": [
        {
          "output_type": "execute_result",
          "data": {
            "text/plain": [
              "{'accuracy': 0.39479166666666665,\n",
              " 'f1_score': 0.3790089351954125,\n",
              " 'precision': 0.39071638637400535,\n",
              " 'recall': 0.3933887974080712}"
            ]
          },
          "metadata": {},
          "execution_count": 18
        }
      ]
    },
    {
      "cell_type": "code",
      "source": [
        "plot_confusion_matrix(y_test, pred, forest_pipe)"
      ],
      "metadata": {
        "colab": {
          "base_uri": "https://localhost:8080/",
          "height": 279
        },
        "id": "SXo2-2kGZaWe",
        "outputId": "a91608cd-039f-4f50-e2c9-13a6c1ad924f"
      },
      "execution_count": 19,
      "outputs": [
        {
          "output_type": "display_data",
          "data": {
            "image/png": "[encoded data removed]",
            "text/plain": [
              "<Figure size 432x288 with 2 Axes>"
            ]
          },
          "metadata": {
            "needs_background": "light"
          }
        }
      ]
    },
    {
      "cell_type": "markdown",
      "source": [
        "## Ridge classifier"
      ],
      "metadata": {
        "id": "O_Zfowq4Y6V4"
      }
    },
    {
      "cell_type": "code",
      "source": [
        "from sklearn.linear_model import RidgeClassifier\n",
        "\n",
        "ridge_model = RidgeClassifier()\n",
        "\n",
        "ridge_pipe = Pipeline([('vectorizer', tfidf_vectorizer),\n",
        "                 ('classifier', ridge_model)])\n",
        "\n",
        "\n",
        "ridge_pipe.fit(X_train, y_train)\n",
        "\n",
        "pred = ridge_pipe.predict(X_test)\n",
        "\n",
        "ridge_report = evaluate(y_test, pred)\n",
        "\n",
        "# Store model performance results\n",
        "reports['Ridge Classifier'] = ridge_report\n",
        "\n",
        "ridge_report"
      ],
      "metadata": {
        "colab": {
          "base_uri": "https://localhost:8080/"
        },
        "id": "qos8CESOY8OB",
        "outputId": "cdb3cf85-c724-4e19-dfc1-c130058c5cb9"
      },
      "execution_count": 20,
      "outputs": [
        {
          "output_type": "execute_result",
          "data": {
            "text/plain": [
              "{'accuracy': 0.46770833333333334,\n",
              " 'f1_score': 0.45972747970980904,\n",
              " 'precision': 0.4615182094256809,\n",
              " 'recall': 0.4665687341851987}"
            ]
          },
          "metadata": {},
          "execution_count": 20
        }
      ]
    },
    {
      "cell_type": "code",
      "source": [
        "plot_confusion_matrix(y_test, pred, ridge_pipe)"
      ],
      "metadata": {
        "colab": {
          "base_uri": "https://localhost:8080/",
          "height": 279
        },
        "id": "5gFGIjd6gRVa",
        "outputId": "45dbc671-be27-4b4f-eb12-6a5db3b3097b"
      },
      "execution_count": 21,
      "outputs": [
        {
          "output_type": "display_data",
          "data": {
            "image/png": "[encoded data removed]",
            "text/plain": [
              "<Figure size 432x288 with 2 Axes>"
            ]
          },
          "metadata": {
            "needs_background": "light"
          }
        }
      ]
    },
    {
      "cell_type": "markdown",
      "source": [
        "## Perceptron classifier"
      ],
      "metadata": {
        "id": "9dyQTAH-gYpk"
      }
    },
    {
      "cell_type": "code",
      "source": [
        "from sklearn.linear_model import Perceptron\n",
        "\n",
        "perceptron_model = Perceptron()\n",
        "\n",
        "perceptron_pipe = Pipeline([('vectorizer', tfidf_vectorizer),\n",
        "                 ('classifier', perceptron_model)])\n",
        "\n",
        "\n",
        "perceptron_pipe.fit(X_train, y_train)\n",
        "\n",
        "pred = perceptron_pipe.predict(X_test)\n",
        "\n",
        "perceptron_report = evaluate(y_test, pred)\n",
        "\n",
        "# Store model performance results\n",
        "reports['Perceptron Classifier'] = perceptron_report\n",
        "\n",
        "perceptron_report\n"
      ],
      "metadata": {
        "colab": {
          "base_uri": "https://localhost:8080/"
        },
        "id": "-4M_zydsgbNr",
        "outputId": "b51d737a-d94e-4fbe-9970-9a655205ec39"
      },
      "execution_count": 22,
      "outputs": [
        {
          "output_type": "execute_result",
          "data": {
            "text/plain": [
              "{'accuracy': 0.41041666666666665,\n",
              " 'f1_score': 0.40604218573199513,\n",
              " 'precision': 0.41168058805580104,\n",
              " 'recall': 0.40951390689663025}"
            ]
          },
          "metadata": {},
          "execution_count": 22
        }
      ]
    },
    {
      "cell_type": "code",
      "source": [
        "plot_confusion_matrix(y_test, pred, perceptron_pipe)"
      ],
      "metadata": {
        "colab": {
          "base_uri": "https://localhost:8080/",
          "height": 279
        },
        "id": "n8leHoXEhGoA",
        "outputId": "7e962e9c-dc56-45e9-cc0c-7bb2b7aaaefa"
      },
      "execution_count": 23,
      "outputs": [
        {
          "output_type": "display_data",
          "data": {
            "image/png": "[encoded data removed]",
            "text/plain": [
              "<Figure size 432x288 with 2 Axes>"
            ]
          },
          "metadata": {
            "needs_background": "light"
          }
        }
      ]
    },
    {
      "cell_type": "markdown",
      "source": [
        "# Select best models"
      ],
      "metadata": {
        "id": "Vwgnc-FNmOqm"
      }
    },
    {
      "cell_type": "code",
      "source": [
        "fig, ax = plt.subplots(1, 1, figsize=(9,6))\n",
        "\n",
        "width = 0.35\n",
        "labels = reports.keys()\n",
        "\n",
        "ax.bar(labels, [x['accuracy'] for x in reports.values()], \n",
        "        label='Accuracy', width=width)\n",
        "\n",
        "plt.xticks(rotation=65)\n",
        "ax.legend()\n"
      ],
      "metadata": {
        "colab": {
          "base_uri": "https://localhost:8080/",
          "height": 479
        },
        "id": "f0Y7tgCTmW-S",
        "outputId": "e285fb39-1cf1-42c6-b304-daba824c528f"
      },
      "execution_count": null,
      "outputs": [
        {
          "output_type": "execute_result",
          "data": {
            "text/plain": [
              "<matplotlib.legend.Legend at 0x7f4d66115090>"
            ]
          },
          "metadata": {},
          "execution_count": 27
        },
        {
          "output_type": "display_data",
          "data": {
            "image/png": "[encoded data removed]",
            "text/plain": [
              "<Figure size 648x432 with 1 Axes>"
            ]
          },
          "metadata": {
            "needs_background": "light"
          }
        }
      ]
    },
    {
      "cell_type": "markdown",
      "source": [
        "We will remove kNN as it shows an accuracy a lot smaller than others models.\n",
        "\n",
        "We will keep Random Forest since Decision Tree alone is not sufficient.\n",
        "\n",
        "Now, let's focus on these 4 models and try to find their optimal parameters !\n",
        "\n"
      ],
      "metadata": {
        "id": "5L3VIWQwunNx"
      }
    }
  ]
}