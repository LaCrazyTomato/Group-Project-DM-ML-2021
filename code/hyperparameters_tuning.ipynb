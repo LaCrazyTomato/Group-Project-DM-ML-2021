{
 "cells": [
  {
   "cell_type": "markdown",
   "metadata": {},
   "source": [
    "# [Detecting the difficulty level of French texts](https://www.kaggle.com/c/detecting-the-difficulty-level-of-french-texts/overview/evaluation)\n",
    "## Hyper parameters tuning\n",
    "---\n",
    "In this notebook, we will use cross-validation to find the best parameters of the models that showed the most promising result in first approach."
   ]
  },
  {
   "cell_type": "code",
   "execution_count": null,
   "metadata": {
    "scrolled": true
   },
   "outputs": [],
   "source": [
    "# Download the french language model\n",
    "!python -m spacy download fr_core_news_md"
   ]
  },
  {
   "cell_type": "code",
   "execution_count": 1,
   "metadata": {},
   "outputs": [],
   "source": [
    "import pandas as pd\n",
    "import spacy\n",
    "from spacy import displacy\n",
    "import string\n",
    "import numpy as np\n",
    "import string\n",
    "import matplotlib.pyplot as plt\n",
    "import seaborn as sns\n",
    "from sklearn.base import TransformerMixin\n",
    "from sklearn.pipeline import Pipeline\n",
    "\n",
    "from sklearn.preprocessing import OrdinalEncoder, OneHotEncoder, LabelEncoder\n",
    "from spacy.lang.en.stop_words import STOP_WORDS\n",
    "from spacy.lang.en import English\n",
    "from sklearn.model_selection import train_test_split\n",
    "from sklearn.linear_model import LogisticRegression, LogisticRegressionCV\n",
    "from sklearn.svm import LinearSVC\n",
    "from sklearn.feature_extraction.text import CountVectorizer, TfidfVectorizer\n",
    "from sklearn.metrics import confusion_matrix, accuracy_score, precision_score, recall_score, f1_score\n",
    "from sklearn.utils.multiclass import unique_labels\n",
    "np.random.state = 0\n",
    "\n",
    "def evaluate(y_true, pred):\n",
    "    \"\"\"\n",
    "    Calculate the models performance metrics. \n",
    "    Since it is a multi-class classification, we take the weighted average \n",
    "    for the metrics that are calculated for each class.\n",
    "\n",
    "    \"\"\"\n",
    "\n",
    "    report = {\n",
    "      'accuracy':accuracy_score(y_true, pred),\n",
    "      'recall':recall_score(y_true, pred, average='weighted'),\n",
    "      'precision':precision_score(y_true, pred, average='weighted'),\n",
    "      'f1_score':f1_score(y_true, pred, average='weighted')\n",
    "    }\n",
    "\n",
    "    return report\n",
    "\n",
    "def plot_confusion_matrix(y_true, pred):\n",
    "    \n",
    "    \"\"\"\n",
    "    A function to plot the models confusion matrix.\n",
    "    \"\"\"\n",
    "\n",
    "    cf_matrix = confusion_matrix(y_test, pred)\n",
    "\n",
    "    fig, ax = plt.subplots(1,1, figsize=(9, 6))\n",
    "\n",
    "    sns.heatmap(cf_matrix, ax=ax, annot=True, \n",
    "              annot_kws={\"size\": 16}, fmt='g')\n",
    "\n",
    "    ax.set_xticklabels(y_true.iloc[:6])\n",
    "    ax.set_yticklabels(y_true.iloc[:6])\n",
    "\n",
    "    ax.set_ylabel(\"Actual\")\n",
    "    ax.set_xlabel(\"Predicted\")\n",
    "    ax.set_title(\"Confusion matrix\")\n",
    "\n",
    "\n",
    "sp = spacy.load('fr_core_news_md')\n",
    "\n",
    "# Import stopwords from spacy french language\n",
    "stop_words = spacy.lang.fr.stop_words.STOP_WORDS\n",
    "# Import punctations characters\n",
    "punctuations = string.punctuation"
   ]
  },
  {
   "cell_type": "code",
   "execution_count": 2,
   "metadata": {
    "scrolled": true
   },
   "outputs": [
    {
     "data": {
      "text/html": [
       "<div>\n",
       "<style scoped>\n",
       "    .dataframe tbody tr th:only-of-type {\n",
       "        vertical-align: middle;\n",
       "    }\n",
       "\n",
       "    .dataframe tbody tr th {\n",
       "        vertical-align: top;\n",
       "    }\n",
       "\n",
       "    .dataframe thead th {\n",
       "        text-align: right;\n",
       "    }\n",
       "</style>\n",
       "<table border=\"1\" class=\"dataframe\">\n",
       "  <thead>\n",
       "    <tr style=\"text-align: right;\">\n",
       "      <th></th>\n",
       "      <th>id</th>\n",
       "      <th>sentence</th>\n",
       "      <th>difficulty</th>\n",
       "    </tr>\n",
       "  </thead>\n",
       "  <tbody>\n",
       "    <tr>\n",
       "      <th>0</th>\n",
       "      <td>0</td>\n",
       "      <td>Les coûts kilométriques réels peuvent diverger...</td>\n",
       "      <td>C1</td>\n",
       "    </tr>\n",
       "    <tr>\n",
       "      <th>1</th>\n",
       "      <td>1</td>\n",
       "      <td>Le bleu, c'est ma couleur préférée mais je n'a...</td>\n",
       "      <td>A1</td>\n",
       "    </tr>\n",
       "    <tr>\n",
       "      <th>2</th>\n",
       "      <td>2</td>\n",
       "      <td>Le test de niveau en français est sur le site ...</td>\n",
       "      <td>A1</td>\n",
       "    </tr>\n",
       "    <tr>\n",
       "      <th>3</th>\n",
       "      <td>3</td>\n",
       "      <td>Est-ce que ton mari est aussi de Boston?</td>\n",
       "      <td>A1</td>\n",
       "    </tr>\n",
       "    <tr>\n",
       "      <th>4</th>\n",
       "      <td>4</td>\n",
       "      <td>Dans les écoles de commerce, dans les couloirs...</td>\n",
       "      <td>B1</td>\n",
       "    </tr>\n",
       "  </tbody>\n",
       "</table>\n",
       "</div>"
      ],
      "text/plain": [
       "   id                                           sentence difficulty\n",
       "0   0  Les coûts kilométriques réels peuvent diverger...         C1\n",
       "1   1  Le bleu, c'est ma couleur préférée mais je n'a...         A1\n",
       "2   2  Le test de niveau en français est sur le site ...         A1\n",
       "3   3           Est-ce que ton mari est aussi de Boston?         A1\n",
       "4   4  Dans les écoles de commerce, dans les couloirs...         B1"
      ]
     },
     "execution_count": 2,
     "metadata": {},
     "output_type": "execute_result"
    }
   ],
   "source": [
    "df = pd.read_csv(\"https://raw.githubusercontent.com/LaCrazyTomato/Group-Project-DM-ML-2021/main/data/training_data.csv\")\n",
    "\n",
    "df.head()"
   ]
  },
  {
   "cell_type": "markdown",
   "metadata": {},
   "source": [
    "This time we will optimize the Tokenizer, with the aim of reducing the dimensionality and improve accuracy. To do this, we will use the PorterStemmer combined with the WordNetLemmatizer of nltk, in order to keep only the root of the words.\n",
    "\n",
    "We kept stop-words, number and punctations because we believed their number of occurences can be predictors of a sentence complexity (and this looks like to be the case because accuracy on testing set reduce when we keep them)."
   ]
  },
  {
   "cell_type": "code",
   "execution_count": 3,
   "metadata": {},
   "outputs": [
    {
     "name": "stderr",
     "output_type": "stream",
     "text": [
      "[nltk_data] Downloading package punkt to\n",
      "[nltk_data]     C:\\Users\\Alex\\AppData\\Roaming\\nltk_data...\n",
      "[nltk_data]   Package punkt is already up-to-date!\n"
     ]
    },
    {
     "name": "stdout",
     "output_type": "stream",
     "text": [
      "['le', 'test', 'de', 'niveau', 'en', 'françai', 'est', 'sur', 'le', 'site', 'internet', 'de', \"l'école\", '.']\n"
     ]
    }
   ],
   "source": [
    "import re\n",
    "import nltk\n",
    "from nltk.tokenize import word_tokenize\n",
    "from nltk.stem import PorterStemmer, SnowballStemmer, WordNetLemmatizer\n",
    "nltk.download('punkt')\n",
    "\n",
    "# Define cleaning function\n",
    "def nltk_tokenizer(doc):\n",
    "    \n",
    "    # Lowercase\n",
    "    doc = doc.lower()\n",
    "    \n",
    "    # Tokenize and remove white spaces (strip)\n",
    "    doc = word_tokenize(doc)\n",
    "    doc = [word.lower().strip() for word in doc]\n",
    "    \n",
    "    stemmer = PorterStemmer()\n",
    "    doc = [stemmer.stem(word) for word in doc]\n",
    "    \n",
    "    lemma = WordNetLemmatizer()\n",
    "    doc = [lemma.lemmatize(word) for word in doc]\n",
    "    \n",
    "    return doc\n",
    "\n",
    "\n",
    "print(nltk_tokenizer(df.loc[2, 'sentence']))"
   ]
  },
  {
   "cell_type": "code",
   "execution_count": 4,
   "metadata": {},
   "outputs": [],
   "source": [
    "tfidf_vectorizer = TfidfVectorizer(tokenizer=nltk_tokenizer)"
   ]
  },
  {
   "cell_type": "code",
   "execution_count": 5,
   "metadata": {},
   "outputs": [
    {
     "data": {
      "text/plain": [
       "183     Vous attendîtes la surprise que vos parents vo...\n",
       "90                      Le petit chat a plu à mes parents\n",
       "1128    Pourfendeur des sciences et des arts, fossoyeu...\n",
       "2336    un berger est une personne chargée de guider e...\n",
       "4398    Pendant les trois années d'études, je vivais d...\n",
       "                              ...                        \n",
       "3983    La Corse est une petite île au sud de la Franc...\n",
       "1870                             Ma mère s'appelle Marie.\n",
       "394     Le journaliste lui a posé des questions auxque...\n",
       "3244    Les sentiments de l'homme sont confus et mélan...\n",
       "411     Il n'engendre aucun mouvement alternatif, ce q...\n",
       "Name: sentence, Length: 3840, dtype: object"
      ]
     },
     "execution_count": 5,
     "metadata": {},
     "output_type": "execute_result"
    }
   ],
   "source": [
    "X = df['sentence']\n",
    "y = df['difficulty']\n",
    "\n",
    "# Train test split\n",
    "X_train, X_test, y_train, y_test = train_test_split(X, y, test_size=0.2, random_state=0, stratify=y)\n",
    "\n",
    "X_train"
   ]
  },
  {
   "cell_type": "markdown",
   "metadata": {},
   "source": [
    "# Models tuning\n",
    "We will user [GridSearchCV](https://scikit-learn.org/stable/modules/generated/sklearn.model_selection.GridSearchCV.html) from sklearn, in order to find the best hyperparameters. What is good with this module is that, in addition to the parameters of the classifier, it allows us to optimize the parameters of all the preprocessor included in the pipeline (e.g: vectorizer, scaler, ...).\n",
    "\n",
    "## 1. LogisticRegression\n",
    "### 1.1 Remainder : accuracy from first approach -> 46.56 %"
   ]
  },
  {
   "cell_type": "code",
   "execution_count": 6,
   "metadata": {},
   "outputs": [
    {
     "data": {
      "text/plain": [
       "{'accuracy': 0.48125,\n",
       " 'recall': 0.48125,\n",
       " 'precision': 0.4774354650793071,\n",
       " 'f1_score': 0.47669201368934977}"
      ]
     },
     "execution_count": 6,
     "metadata": {},
     "output_type": "execute_result"
    }
   ],
   "source": [
    "\n",
    "LRCV_model = LogisticRegression()\n",
    "\n",
    "pipe = Pipeline([('vectorizer', tfidf_vectorizer),\n",
    "                 ('classifier', LRCV_model)])\n",
    "\n",
    "pipe.fit(X_train, y_train)\n",
    "\n",
    "\n",
    "pred = pipe.predict(X_test)\n",
    "\n",
    "evaluate(y_test, pred)\n"
   ]
  },
  {
   "cell_type": "markdown",
   "metadata": {},
   "source": [
    "With optimized text cleaning, we managed to **increase accuracy by approximately 160 basis point.**"
   ]
  },
  {
   "cell_type": "markdown",
   "metadata": {},
   "source": [
    "### 1.2 Tuning"
   ]
  },
  {
   "cell_type": "code",
   "execution_count": 6,
   "metadata": {
    "scrolled": true
   },
   "outputs": [
    {
     "data": {
      "text/plain": [
       "GridSearchCV(estimator=Pipeline(steps=[('vectorizer', TfidfVectorizer()),\n",
       "                                       ('classifier',\n",
       "                                        LogisticRegression(random_state=0))]),\n",
       "             param_grid={'classifier__max_iter': [10000],\n",
       "                         'classifier__penalty': ['l2', 'none'],\n",
       "                         'classifier__solver': ['lbfgs'],\n",
       "                         'vectorizer__analyzer': ['word', 'char'],\n",
       "                         'vectorizer__max_df': [0.7, 0.8, 0.9, 1.0],\n",
       "                         'vectorizer__min_df': [0, 1, 2],\n",
       "                         'vectorizer__ngram_range': [(1, 3), (1, 4), (1, 5),\n",
       "                                                     (1, 6)],\n",
       "                         'vectorizer__norm': ['l1', 'l2'],\n",
       "                         'vectorizer__tokenizer': [<function nltk_tokenizer at 0x0000021C1A19E318>]},\n",
       "             verbose=10)"
      ]
     },
     "execution_count": 6,
     "metadata": {},
     "output_type": "execute_result"
    }
   ],
   "source": [
    "from sklearn.datasets import make_classification\n",
    "from sklearn.model_selection import HalvingGridSearchCV, GridSearchCV\n",
    "import pandas as pd\n",
    "from sklearn.preprocessing import StandardScaler\n",
    "\n",
    "tfidf_vector = TfidfVectorizer()\n",
    "\n",
    "\n",
    "LR_model = LogisticRegression(random_state=0)\n",
    "\n",
    "pipe = Pipeline([('vectorizer', tfidf_vector),\n",
    "                 ('classifier', LR_model)])\n",
    "\n",
    "# We define here all the parameters we want the CV to do combination with.\n",
    "param_grid = {'classifier__solver': ['lbfgs'],\n",
    "              'classifier__penalty': ['l2', 'none'],\n",
    "              'classifier__max_iter': [10_000],\n",
    "              'vectorizer__tokenizer':[nltk_tokenizer],\n",
    "              'vectorizer__ngram_range':[(1,3), (1,4), (1,5), (1,6)],\n",
    "              'vectorizer__analyzer':['word', 'char'],\n",
    "              'vectorizer__norm':['l1', 'l2'],\n",
    "              'vectorizer__max_df':[0.7, 0.8, 0.9, 1.0],\n",
    "              'vectorizer__min_df':[0, 1, 2],\n",
    "             }\n",
    "\n",
    "grid_search_params = dict(estimator=pipe,\n",
    "                          param_grid=param_grid,\n",
    "                          verbose=10)\n",
    "\n",
    "LR_cross_validation = GridSearchCV(**grid_search_params)\n",
    "\n",
    "LR_cross_validation\n",
    "\n"
   ]
  },
  {
   "cell_type": "markdown",
   "metadata": {},
   "source": [
    "All the parameters combination gives **384 models possible**. For each of these, the cross-validation will do 5 split, which gives us a total number of fits of 1920.\n",
    "\n",
    "It took a lot of time.. So we saved it in a csv file."
   ]
  },
  {
   "cell_type": "code",
   "execution_count": 76,
   "metadata": {
    "scrolled": true
   },
   "outputs": [],
   "source": [
    "#%%time\n",
    "#LR_cross_validation.fit(X, y)\n",
    "#results = pd.DataFrame(LR_cross_validation.cv_results_)\n",
    "#results.to_csv(\"LR_cross_validation.csv\")"
   ]
  },
  {
   "cell_type": "code",
   "execution_count": 7,
   "metadata": {
    "scrolled": true
   },
   "outputs": [
    {
     "data": {
      "text/html": [
       "<div>\n",
       "<style scoped>\n",
       "    .dataframe tbody tr th:only-of-type {\n",
       "        vertical-align: middle;\n",
       "    }\n",
       "\n",
       "    .dataframe tbody tr th {\n",
       "        vertical-align: top;\n",
       "    }\n",
       "\n",
       "    .dataframe thead th {\n",
       "        text-align: right;\n",
       "    }\n",
       "</style>\n",
       "<table border=\"1\" class=\"dataframe\">\n",
       "  <thead>\n",
       "    <tr style=\"text-align: right;\">\n",
       "      <th></th>\n",
       "      <th>Unnamed: 0</th>\n",
       "      <th>mean_fit_time</th>\n",
       "      <th>std_fit_time</th>\n",
       "      <th>mean_score_time</th>\n",
       "      <th>std_score_time</th>\n",
       "      <th>param_classifier__max_iter</th>\n",
       "      <th>param_classifier__penalty</th>\n",
       "      <th>param_classifier__solver</th>\n",
       "      <th>param_vectorizer__analyzer</th>\n",
       "      <th>param_vectorizer__max_df</th>\n",
       "      <th>...</th>\n",
       "      <th>param_vectorizer__tokenizer</th>\n",
       "      <th>params</th>\n",
       "      <th>split0_test_score</th>\n",
       "      <th>split1_test_score</th>\n",
       "      <th>split2_test_score</th>\n",
       "      <th>split3_test_score</th>\n",
       "      <th>split4_test_score</th>\n",
       "      <th>mean_test_score</th>\n",
       "      <th>std_test_score</th>\n",
       "      <th>rank_test_score</th>\n",
       "    </tr>\n",
       "  </thead>\n",
       "  <tbody>\n",
       "    <tr>\n",
       "      <th>0</th>\n",
       "      <td>0</td>\n",
       "      <td>4.321114</td>\n",
       "      <td>0.253059</td>\n",
       "      <td>0.489479</td>\n",
       "      <td>0.002947</td>\n",
       "      <td>10000</td>\n",
       "      <td>l2</td>\n",
       "      <td>lbfgs</td>\n",
       "      <td>word</td>\n",
       "      <td>0.7</td>\n",
       "      <td>...</td>\n",
       "      <td>&lt;function nltk_tokenizer at 0x0000021C1A19E318&gt;</td>\n",
       "      <td>{'classifier__max_iter': 10000, 'classifier__p...</td>\n",
       "      <td>0.418750</td>\n",
       "      <td>0.375000</td>\n",
       "      <td>0.368750</td>\n",
       "      <td>0.390625</td>\n",
       "      <td>0.382292</td>\n",
       "      <td>0.387083</td>\n",
       "      <td>0.017438</td>\n",
       "      <td>297</td>\n",
       "    </tr>\n",
       "    <tr>\n",
       "      <th>1</th>\n",
       "      <td>1</td>\n",
       "      <td>7.230842</td>\n",
       "      <td>0.680253</td>\n",
       "      <td>0.468461</td>\n",
       "      <td>0.023902</td>\n",
       "      <td>10000</td>\n",
       "      <td>l2</td>\n",
       "      <td>lbfgs</td>\n",
       "      <td>word</td>\n",
       "      <td>0.7</td>\n",
       "      <td>...</td>\n",
       "      <td>&lt;function nltk_tokenizer at 0x0000021C1A19E318&gt;</td>\n",
       "      <td>{'classifier__max_iter': 10000, 'classifier__p...</td>\n",
       "      <td>0.476042</td>\n",
       "      <td>0.435417</td>\n",
       "      <td>0.428125</td>\n",
       "      <td>0.421875</td>\n",
       "      <td>0.426042</td>\n",
       "      <td>0.437500</td>\n",
       "      <td>0.019764</td>\n",
       "      <td>206</td>\n",
       "    </tr>\n",
       "    <tr>\n",
       "      <th>2</th>\n",
       "      <td>2</td>\n",
       "      <td>5.274098</td>\n",
       "      <td>0.145254</td>\n",
       "      <td>0.479631</td>\n",
       "      <td>0.013979</td>\n",
       "      <td>10000</td>\n",
       "      <td>l2</td>\n",
       "      <td>lbfgs</td>\n",
       "      <td>word</td>\n",
       "      <td>0.7</td>\n",
       "      <td>...</td>\n",
       "      <td>&lt;function nltk_tokenizer at 0x0000021C1A19E318&gt;</td>\n",
       "      <td>{'classifier__max_iter': 10000, 'classifier__p...</td>\n",
       "      <td>0.383333</td>\n",
       "      <td>0.361458</td>\n",
       "      <td>0.350000</td>\n",
       "      <td>0.372917</td>\n",
       "      <td>0.364583</td>\n",
       "      <td>0.366458</td>\n",
       "      <td>0.011188</td>\n",
       "      <td>316</td>\n",
       "    </tr>\n",
       "    <tr>\n",
       "      <th>3</th>\n",
       "      <td>3</td>\n",
       "      <td>9.424096</td>\n",
       "      <td>0.813070</td>\n",
       "      <td>0.482579</td>\n",
       "      <td>0.013697</td>\n",
       "      <td>10000</td>\n",
       "      <td>l2</td>\n",
       "      <td>lbfgs</td>\n",
       "      <td>word</td>\n",
       "      <td>0.7</td>\n",
       "      <td>...</td>\n",
       "      <td>&lt;function nltk_tokenizer at 0x0000021C1A19E318&gt;</td>\n",
       "      <td>{'classifier__max_iter': 10000, 'classifier__p...</td>\n",
       "      <td>0.465625</td>\n",
       "      <td>0.419792</td>\n",
       "      <td>0.415625</td>\n",
       "      <td>0.411458</td>\n",
       "      <td>0.417708</td>\n",
       "      <td>0.426042</td>\n",
       "      <td>0.019983</td>\n",
       "      <td>215</td>\n",
       "    </tr>\n",
       "    <tr>\n",
       "      <th>4</th>\n",
       "      <td>4</td>\n",
       "      <td>6.545410</td>\n",
       "      <td>0.103696</td>\n",
       "      <td>0.489211</td>\n",
       "      <td>0.034102</td>\n",
       "      <td>10000</td>\n",
       "      <td>l2</td>\n",
       "      <td>lbfgs</td>\n",
       "      <td>word</td>\n",
       "      <td>0.7</td>\n",
       "      <td>...</td>\n",
       "      <td>&lt;function nltk_tokenizer at 0x0000021C1A19E318&gt;</td>\n",
       "      <td>{'classifier__max_iter': 10000, 'classifier__p...</td>\n",
       "      <td>0.360417</td>\n",
       "      <td>0.333333</td>\n",
       "      <td>0.331250</td>\n",
       "      <td>0.362500</td>\n",
       "      <td>0.353125</td>\n",
       "      <td>0.348125</td>\n",
       "      <td>0.013314</td>\n",
       "      <td>327</td>\n",
       "    </tr>\n",
       "  </tbody>\n",
       "</table>\n",
       "<p>5 rows × 23 columns</p>\n",
       "</div>"
      ],
      "text/plain": [
       "   Unnamed: 0  mean_fit_time  std_fit_time  mean_score_time  std_score_time  \\\n",
       "0           0       4.321114      0.253059         0.489479        0.002947   \n",
       "1           1       7.230842      0.680253         0.468461        0.023902   \n",
       "2           2       5.274098      0.145254         0.479631        0.013979   \n",
       "3           3       9.424096      0.813070         0.482579        0.013697   \n",
       "4           4       6.545410      0.103696         0.489211        0.034102   \n",
       "\n",
       "   param_classifier__max_iter param_classifier__penalty  \\\n",
       "0                       10000                        l2   \n",
       "1                       10000                        l2   \n",
       "2                       10000                        l2   \n",
       "3                       10000                        l2   \n",
       "4                       10000                        l2   \n",
       "\n",
       "  param_classifier__solver param_vectorizer__analyzer  \\\n",
       "0                    lbfgs                       word   \n",
       "1                    lbfgs                       word   \n",
       "2                    lbfgs                       word   \n",
       "3                    lbfgs                       word   \n",
       "4                    lbfgs                       word   \n",
       "\n",
       "   param_vectorizer__max_df  ...  \\\n",
       "0                       0.7  ...   \n",
       "1                       0.7  ...   \n",
       "2                       0.7  ...   \n",
       "3                       0.7  ...   \n",
       "4                       0.7  ...   \n",
       "\n",
       "                       param_vectorizer__tokenizer  \\\n",
       "0  <function nltk_tokenizer at 0x0000021C1A19E318>   \n",
       "1  <function nltk_tokenizer at 0x0000021C1A19E318>   \n",
       "2  <function nltk_tokenizer at 0x0000021C1A19E318>   \n",
       "3  <function nltk_tokenizer at 0x0000021C1A19E318>   \n",
       "4  <function nltk_tokenizer at 0x0000021C1A19E318>   \n",
       "\n",
       "                                              params split0_test_score  \\\n",
       "0  {'classifier__max_iter': 10000, 'classifier__p...          0.418750   \n",
       "1  {'classifier__max_iter': 10000, 'classifier__p...          0.476042   \n",
       "2  {'classifier__max_iter': 10000, 'classifier__p...          0.383333   \n",
       "3  {'classifier__max_iter': 10000, 'classifier__p...          0.465625   \n",
       "4  {'classifier__max_iter': 10000, 'classifier__p...          0.360417   \n",
       "\n",
       "  split1_test_score split2_test_score  split3_test_score  split4_test_score  \\\n",
       "0          0.375000          0.368750           0.390625           0.382292   \n",
       "1          0.435417          0.428125           0.421875           0.426042   \n",
       "2          0.361458          0.350000           0.372917           0.364583   \n",
       "3          0.419792          0.415625           0.411458           0.417708   \n",
       "4          0.333333          0.331250           0.362500           0.353125   \n",
       "\n",
       "   mean_test_score  std_test_score  rank_test_score  \n",
       "0         0.387083        0.017438              297  \n",
       "1         0.437500        0.019764              206  \n",
       "2         0.366458        0.011188              316  \n",
       "3         0.426042        0.019983              215  \n",
       "4         0.348125        0.013314              327  \n",
       "\n",
       "[5 rows x 23 columns]"
      ]
     },
     "execution_count": 7,
     "metadata": {},
     "output_type": "execute_result"
    }
   ],
   "source": [
    "results = pd.read_csv(\"LR_cross_validation.csv\")\n",
    "results.head()"
   ]
  },
  {
   "cell_type": "code",
   "execution_count": 8,
   "metadata": {
    "scrolled": false
   },
   "outputs": [
    {
     "data": {
      "text/plain": [
       "<matplotlib.axes._subplots.AxesSubplot at 0x169beb0c688>"
      ]
     },
     "execution_count": 8,
     "metadata": {},
     "output_type": "execute_result"
    },
    {
     "data": {
      "image/png": "[encoded data removed]",
      "text/plain": [
       "<Figure size 432x288 with 1 Axes>"
      ]
     },
     "metadata": {
      "needs_background": "light"
     },
     "output_type": "display_data"
    }
   ],
   "source": [
    "sns.histplot(results.mean_test_score, kde=True)"
   ]
  },
  {
   "cell_type": "code",
   "execution_count": 9,
   "metadata": {
    "scrolled": true
   },
   "outputs": [
    {
     "data": {
      "text/plain": [
       "<matplotlib.axes._subplots.AxesSubplot at 0x1698957a4c8>"
      ]
     },
     "execution_count": 9,
     "metadata": {},
     "output_type": "execute_result"
    },
    {
     "data": {
      "image/png": "[encoded data removed]",
      "text/plain": [
       "<Figure size 864x288 with 2 Axes>"
      ]
     },
     "metadata": {
      "needs_background": "light"
     },
     "output_type": "display_data"
    }
   ],
   "source": [
    "fig, ax = plt.subplots(1,2, figsize=(12, 4))\n",
    "\n",
    "sns.scatterplot(data=results, x=\"param_classifier__penalty\", \n",
    "                y=\"mean_test_score\", \n",
    "                hue=\"param_vectorizer__analyzer\",\n",
    "               ax=ax[0])\n",
    "\n",
    "sns.scatterplot(data=results, x=\"param_vectorizer__ngram_range\", \n",
    "                y=\"mean_test_score\", \n",
    "                hue=\"param_vectorizer__norm\",\n",
    "               ax=ax[1])\n"
   ]
  },
  {
   "cell_type": "code",
   "execution_count": 10,
   "metadata": {},
   "outputs": [
    {
     "data": {
      "text/html": [
       "<div>\n",
       "<style scoped>\n",
       "    .dataframe tbody tr th:only-of-type {\n",
       "        vertical-align: middle;\n",
       "    }\n",
       "\n",
       "    .dataframe tbody tr th {\n",
       "        vertical-align: top;\n",
       "    }\n",
       "\n",
       "    .dataframe thead th {\n",
       "        text-align: right;\n",
       "    }\n",
       "</style>\n",
       "<table border=\"1\" class=\"dataframe\">\n",
       "  <thead>\n",
       "    <tr style=\"text-align: right;\">\n",
       "      <th></th>\n",
       "      <th>Unnamed: 0</th>\n",
       "      <th>mean_fit_time</th>\n",
       "      <th>std_fit_time</th>\n",
       "      <th>mean_score_time</th>\n",
       "      <th>std_score_time</th>\n",
       "      <th>param_classifier__max_iter</th>\n",
       "      <th>param_classifier__penalty</th>\n",
       "      <th>param_classifier__solver</th>\n",
       "      <th>param_vectorizer__analyzer</th>\n",
       "      <th>param_vectorizer__max_df</th>\n",
       "      <th>...</th>\n",
       "      <th>param_vectorizer__tokenizer</th>\n",
       "      <th>params</th>\n",
       "      <th>split0_test_score</th>\n",
       "      <th>split1_test_score</th>\n",
       "      <th>split2_test_score</th>\n",
       "      <th>split3_test_score</th>\n",
       "      <th>split4_test_score</th>\n",
       "      <th>mean_test_score</th>\n",
       "      <th>std_test_score</th>\n",
       "      <th>rank_test_score</th>\n",
       "    </tr>\n",
       "  </thead>\n",
       "  <tbody>\n",
       "    <tr>\n",
       "      <th>119</th>\n",
       "      <td>119</td>\n",
       "      <td>8.833449</td>\n",
       "      <td>0.356059</td>\n",
       "      <td>0.309594</td>\n",
       "      <td>0.006858</td>\n",
       "      <td>10000</td>\n",
       "      <td>l2</td>\n",
       "      <td>lbfgs</td>\n",
       "      <td>char</td>\n",
       "      <td>0.7</td>\n",
       "      <td>...</td>\n",
       "      <td>&lt;function nltk_tokenizer at 0x0000021C1A19E318&gt;</td>\n",
       "      <td>{'classifier__max_iter': 10000, 'classifier__p...</td>\n",
       "      <td>0.513542</td>\n",
       "      <td>0.525</td>\n",
       "      <td>0.496875</td>\n",
       "      <td>0.485417</td>\n",
       "      <td>0.484375</td>\n",
       "      <td>0.501042</td>\n",
       "      <td>0.015934</td>\n",
       "      <td>1</td>\n",
       "    </tr>\n",
       "  </tbody>\n",
       "</table>\n",
       "<p>1 rows × 23 columns</p>\n",
       "</div>"
      ],
      "text/plain": [
       "     Unnamed: 0  mean_fit_time  std_fit_time  mean_score_time  std_score_time  \\\n",
       "119         119       8.833449      0.356059         0.309594        0.006858   \n",
       "\n",
       "     param_classifier__max_iter param_classifier__penalty  \\\n",
       "119                       10000                        l2   \n",
       "\n",
       "    param_classifier__solver param_vectorizer__analyzer  \\\n",
       "119                    lbfgs                       char   \n",
       "\n",
       "     param_vectorizer__max_df  ...  \\\n",
       "119                       0.7  ...   \n",
       "\n",
       "                         param_vectorizer__tokenizer  \\\n",
       "119  <function nltk_tokenizer at 0x0000021C1A19E318>   \n",
       "\n",
       "                                                params split0_test_score  \\\n",
       "119  {'classifier__max_iter': 10000, 'classifier__p...          0.513542   \n",
       "\n",
       "    split1_test_score split2_test_score  split3_test_score  split4_test_score  \\\n",
       "119             0.525          0.496875           0.485417           0.484375   \n",
       "\n",
       "     mean_test_score  std_test_score  rank_test_score  \n",
       "119         0.501042        0.015934                1  \n",
       "\n",
       "[1 rows x 23 columns]"
      ]
     },
     "metadata": {},
     "output_type": "display_data"
    },
    {
     "data": {
      "text/plain": [
       "{119: \"{'classifier__max_iter': 10000, 'classifier__penalty': 'l2', 'classifier__solver': 'lbfgs', 'vectorizer__analyzer': 'char', 'vectorizer__max_df': 0.7, 'vectorizer__min_df': 2, 'vectorizer__ngram_range': (1, 6), 'vectorizer__norm': 'l2', 'vectorizer__tokenizer': <function nltk_tokenizer at 0x0000021C1A19E318>}\"}"
      ]
     },
     "execution_count": 10,
     "metadata": {},
     "output_type": "execute_result"
    }
   ],
   "source": [
    "best = results[results.rank_test_score==1]\n",
    "\n",
    "display(best)\n",
    "dict(best.params)"
   ]
  },
  {
   "cell_type": "markdown",
   "metadata": {},
   "source": [
    "### 1.2 Testing accuracy with best parameters found"
   ]
  },
  {
   "cell_type": "code",
   "execution_count": 12,
   "metadata": {},
   "outputs": [
    {
     "data": {
      "text/plain": [
       "0.503125"
      ]
     },
     "execution_count": 12,
     "metadata": {},
     "output_type": "execute_result"
    }
   ],
   "source": [
    "from sklearn.datasets import make_classification\n",
    "from sklearn.model_selection import GridSearchCV\n",
    "import pandas as pd\n",
    "from sklearn.preprocessing import StandardScaler\n",
    "\n",
    "\n",
    "vectorizer = TfidfVectorizer(tokenizer=nltk_tokenizer, \n",
    "                               ngram_range=(1, 6),\n",
    "                               analyzer='char',\n",
    "                            min_df=2,\n",
    "                            max_df=0.7,\n",
    "                            norm='l2')\n",
    "\n",
    "\n",
    "model = LogisticRegression(max_iter=10_000,\n",
    "                          penalty='l2',\n",
    "                          solver='lbfgs')\n",
    "\n",
    "pipe = Pipeline([('vectorizer', vectorizer),                 \n",
    "                 ('classifier', model)])\n",
    "\n",
    "\n",
    "pipe.fit(X_train, y_train)\n",
    "\n",
    "pipe.score(X_test, y_test)\n"
   ]
  },
  {
   "cell_type": "markdown",
   "metadata": {},
   "source": [
    "We improved accuracy on testing set by 220 basis point."
   ]
  },
  {
   "cell_type": "markdown",
   "metadata": {},
   "source": [
    "## 2. Random Forest\n",
    "### 2.1 Remainder : accuracy from first approach -> 39.79 %\n",
    "\n",
    "For the vectorizer, we will keep best parameters previously."
   ]
  },
  {
   "cell_type": "code",
   "execution_count": 14,
   "metadata": {},
   "outputs": [
    {
     "data": {
      "text/plain": [
       "GridSearchCV(estimator=Pipeline(steps=[('vectorizer',\n",
       "                                        TfidfVectorizer(analyzer='char',\n",
       "                                                        max_df=0.7, min_df=2,\n",
       "                                                        ngram_range=(1, 6),\n",
       "                                                        tokenizer=<function nltk_tokenizer at 0x00000169BE9A60D8>)),\n",
       "                                       ('classifier',\n",
       "                                        RandomForestClassifier(random_state=0))]),\n",
       "             param_grid={'classifier__criterion': ['entropy', 'gini'],\n",
       "                         'classifier__max_features': ['auto', 'sqrt', 'log2'],\n",
       "                         'classifier__min_samples_split': [2, 4, 6]},\n",
       "             verbose=10)"
      ]
     },
     "execution_count": 14,
     "metadata": {},
     "output_type": "execute_result"
    }
   ],
   "source": [
    "from sklearn.datasets import make_classification\n",
    "from sklearn.model_selection import GridSearchCV\n",
    "import pandas as pd\n",
    "from sklearn.preprocessing import StandardScaler\n",
    "from sklearn.ensemble import RandomForestClassifier\n",
    "\n",
    "vectorizer = TfidfVectorizer(tokenizer=nltk_tokenizer, \n",
    "                               ngram_range=(1, 6),\n",
    "                               analyzer='char',\n",
    "                            min_df=2,\n",
    "                            max_df=0.7,\n",
    "                            norm='l2')\n",
    "\n",
    "random_forest_model = RandomForestClassifier(random_state=0)\n",
    "\n",
    "pipe = Pipeline([('vectorizer', vectorizer),\n",
    "                 ('classifier', random_forest_model)])\n",
    "\n",
    "# We define here all the parameters we want the CV to do combination with.\n",
    "param_grid = {'classifier__criterion': ['entropy', 'gini'],\n",
    "              'classifier__min_samples_split': [2, 4, 6],\n",
    "              'classifier__max_features': [\"auto\", \"sqrt\", \"log2\"],\n",
    "             }\n",
    "\n",
    "grid_search_params = dict(estimator=pipe,\n",
    "                          param_grid=param_grid,\n",
    "                          verbose=10)\n",
    "\n",
    "random_forest_cross_validation = GridSearchCV(**grid_search_params)\n",
    "\n",
    "random_forest_cross_validation\n",
    "\n"
   ]
  },
  {
   "cell_type": "code",
   "execution_count": 98,
   "metadata": {
    "scrolled": true
   },
   "outputs": [],
   "source": [
    "#%%time\n",
    "#random_forest_cross_validation.fit(X, y)\n",
    "#results = pd.DataFrame(random_forest_cross_validation.cv_results_)\n",
    "#results.to_csv(\"random_forest_cross_validation.csv\")"
   ]
  },
  {
   "cell_type": "code",
   "execution_count": 15,
   "metadata": {},
   "outputs": [],
   "source": [
    "results = pd.read_csv(\"random_forest_cross_validation.csv\")"
   ]
  },
  {
   "cell_type": "code",
   "execution_count": 16,
   "metadata": {
    "scrolled": true
   },
   "outputs": [
    {
     "data": {
      "text/html": [
       "<div>\n",
       "<style scoped>\n",
       "    .dataframe tbody tr th:only-of-type {\n",
       "        vertical-align: middle;\n",
       "    }\n",
       "\n",
       "    .dataframe tbody tr th {\n",
       "        vertical-align: top;\n",
       "    }\n",
       "\n",
       "    .dataframe thead th {\n",
       "        text-align: right;\n",
       "    }\n",
       "</style>\n",
       "<table border=\"1\" class=\"dataframe\">\n",
       "  <thead>\n",
       "    <tr style=\"text-align: right;\">\n",
       "      <th></th>\n",
       "      <th>Unnamed: 0</th>\n",
       "      <th>mean_fit_time</th>\n",
       "      <th>std_fit_time</th>\n",
       "      <th>mean_score_time</th>\n",
       "      <th>std_score_time</th>\n",
       "      <th>param_classifier__criterion</th>\n",
       "      <th>param_classifier__max_features</th>\n",
       "      <th>param_classifier__min_samples_split</th>\n",
       "      <th>params</th>\n",
       "      <th>split0_test_score</th>\n",
       "      <th>split1_test_score</th>\n",
       "      <th>split2_test_score</th>\n",
       "      <th>split3_test_score</th>\n",
       "      <th>split4_test_score</th>\n",
       "      <th>mean_test_score</th>\n",
       "      <th>std_test_score</th>\n",
       "      <th>rank_test_score</th>\n",
       "    </tr>\n",
       "  </thead>\n",
       "  <tbody>\n",
       "    <tr>\n",
       "      <th>9</th>\n",
       "      <td>9</td>\n",
       "      <td>8.956898</td>\n",
       "      <td>0.052415</td>\n",
       "      <td>0.458973</td>\n",
       "      <td>0.020465</td>\n",
       "      <td>gini</td>\n",
       "      <td>auto</td>\n",
       "      <td>2</td>\n",
       "      <td>{'classifier__criterion': 'gini', 'classifier_...</td>\n",
       "      <td>0.473958</td>\n",
       "      <td>0.455208</td>\n",
       "      <td>0.448958</td>\n",
       "      <td>0.432292</td>\n",
       "      <td>0.427083</td>\n",
       "      <td>0.4475</td>\n",
       "      <td>0.016791</td>\n",
       "      <td>1</td>\n",
       "    </tr>\n",
       "    <tr>\n",
       "      <th>12</th>\n",
       "      <td>12</td>\n",
       "      <td>8.947438</td>\n",
       "      <td>0.116671</td>\n",
       "      <td>0.475529</td>\n",
       "      <td>0.014433</td>\n",
       "      <td>gini</td>\n",
       "      <td>sqrt</td>\n",
       "      <td>2</td>\n",
       "      <td>{'classifier__criterion': 'gini', 'classifier_...</td>\n",
       "      <td>0.473958</td>\n",
       "      <td>0.455208</td>\n",
       "      <td>0.448958</td>\n",
       "      <td>0.432292</td>\n",
       "      <td>0.427083</td>\n",
       "      <td>0.4475</td>\n",
       "      <td>0.016791</td>\n",
       "      <td>1</td>\n",
       "    </tr>\n",
       "  </tbody>\n",
       "</table>\n",
       "</div>"
      ],
      "text/plain": [
       "    Unnamed: 0  mean_fit_time  std_fit_time  mean_score_time  std_score_time  \\\n",
       "9            9       8.956898      0.052415         0.458973        0.020465   \n",
       "12          12       8.947438      0.116671         0.475529        0.014433   \n",
       "\n",
       "   param_classifier__criterion param_classifier__max_features  \\\n",
       "9                         gini                           auto   \n",
       "12                        gini                           sqrt   \n",
       "\n",
       "    param_classifier__min_samples_split  \\\n",
       "9                                     2   \n",
       "12                                    2   \n",
       "\n",
       "                                               params  split0_test_score  \\\n",
       "9   {'classifier__criterion': 'gini', 'classifier_...           0.473958   \n",
       "12  {'classifier__criterion': 'gini', 'classifier_...           0.473958   \n",
       "\n",
       "    split1_test_score  split2_test_score  split3_test_score  \\\n",
       "9            0.455208           0.448958           0.432292   \n",
       "12           0.455208           0.448958           0.432292   \n",
       "\n",
       "    split4_test_score  mean_test_score  std_test_score  rank_test_score  \n",
       "9            0.427083           0.4475        0.016791                1  \n",
       "12           0.427083           0.4475        0.016791                1  "
      ]
     },
     "metadata": {},
     "output_type": "display_data"
    },
    {
     "data": {
      "text/plain": [
       "{9: \"{'classifier__criterion': 'gini', 'classifier__max_features': 'auto', 'classifier__min_samples_split': 2}\",\n",
       " 12: \"{'classifier__criterion': 'gini', 'classifier__max_features': 'sqrt', 'classifier__min_samples_split': 2}\"}"
      ]
     },
     "execution_count": 16,
     "metadata": {},
     "output_type": "execute_result"
    }
   ],
   "source": [
    "best = results[results.rank_test_score==1]\n",
    "\n",
    "display(best)\n",
    "dict(best.params)"
   ]
  },
  {
   "cell_type": "code",
   "execution_count": 17,
   "metadata": {},
   "outputs": [
    {
     "data": {
      "text/plain": [
       "<matplotlib.axes._subplots.AxesSubplot at 0x16989684f88>"
      ]
     },
     "execution_count": 17,
     "metadata": {},
     "output_type": "execute_result"
    },
    {
     "data": {
      "image/png": "[encoded data removed]",
      "text/plain": [
       "<Figure size 432x288 with 1 Axes>"
      ]
     },
     "metadata": {
      "needs_background": "light"
     },
     "output_type": "display_data"
    }
   ],
   "source": [
    "sns.histplot(results.mean_test_score, kde=True)"
   ]
  },
  {
   "cell_type": "code",
   "execution_count": 18,
   "metadata": {},
   "outputs": [
    {
     "data": {
      "text/plain": [
       "<matplotlib.axes._subplots.AxesSubplot at 0x1698ecc7688>"
      ]
     },
     "execution_count": 18,
     "metadata": {},
     "output_type": "execute_result"
    },
    {
     "data": {
      "image/png": "[encoded data removed]",
      "text/plain": [
       "<Figure size 864x288 with 2 Axes>"
      ]
     },
     "metadata": {
      "needs_background": "light"
     },
     "output_type": "display_data"
    }
   ],
   "source": [
    "fig, ax = plt.subplots(1,2, figsize=(12, 4))\n",
    "\n",
    "sns.scatterplot(data=results, x=\"param_classifier__min_samples_split\", \n",
    "                y=\"mean_test_score\", \n",
    "                hue=\"param_classifier__criterion\",\n",
    "               ax=ax[0])\n",
    "\n",
    "sns.scatterplot(data=results, x=\"param_classifier__max_features\", \n",
    "                y=\"mean_test_score\", \n",
    "                hue=\"param_classifier__criterion\",\n",
    "               ax=ax[1])\n",
    "\n"
   ]
  },
  {
   "cell_type": "markdown",
   "metadata": {},
   "source": [
    "### 2.2 Testing accuracy with best parameters found"
   ]
  },
  {
   "cell_type": "code",
   "execution_count": 19,
   "metadata": {},
   "outputs": [
    {
     "data": {
      "text/plain": [
       "0.4197916666666667"
      ]
     },
     "execution_count": 19,
     "metadata": {},
     "output_type": "execute_result"
    }
   ],
   "source": [
    "vectorizer = TfidfVectorizer(tokenizer=nltk_tokenizer, \n",
    "                               ngram_range=(1, 6),\n",
    "                               analyzer='char',\n",
    "                            min_df=2,\n",
    "                            max_df=0.7,\n",
    "                            norm='l2')\n",
    "\n",
    "model = RandomForestClassifier(criterion='gini',\n",
    "                          max_features='auto',\n",
    "                          min_samples_split=2)\n",
    "\n",
    "pipe = Pipeline([('vectorizer', vectorizer),                 \n",
    "                 ('classifier', model)])\n",
    "\n",
    "\n",
    "pipe.fit(X_train, y_train)\n",
    "\n",
    "pipe.score(X_test, y_test)"
   ]
  },
  {
   "cell_type": "markdown",
   "metadata": {},
   "source": [
    "## 3. Ridge classifier\n",
    "### 3.1 Remainder : accuracy from first approach -> 46.77 %"
   ]
  },
  {
   "cell_type": "code",
   "execution_count": 20,
   "metadata": {},
   "outputs": [
    {
     "data": {
      "text/plain": [
       "GridSearchCV(estimator=Pipeline(steps=[('vectorizer',\n",
       "                                        TfidfVectorizer(analyzer='char',\n",
       "                                                        max_df=0.7, min_df=2,\n",
       "                                                        ngram_range=(1, 6),\n",
       "                                                        tokenizer=<function nltk_tokenizer at 0x00000169BE9A60D8>)),\n",
       "                                       ('classifier',\n",
       "                                        RidgeClassifier(random_state=0))]),\n",
       "             param_grid={'classifier__alpha': [0.8, 1.0, 1.2],\n",
       "                         'classifier__max_iter': [10000],\n",
       "                         'classifier__solver': ['auto', 'sparse_cg', 'sag']},\n",
       "             verbose=10)"
      ]
     },
     "execution_count": 20,
     "metadata": {},
     "output_type": "execute_result"
    }
   ],
   "source": [
    "from sklearn.linear_model import RidgeClassifier\n",
    "\n",
    "\n",
    "vectorizer = TfidfVectorizer(tokenizer=nltk_tokenizer, \n",
    "                               ngram_range=(1, 6),\n",
    "                               analyzer='char',\n",
    "                            min_df=2,\n",
    "                            max_df=0.7,\n",
    "                            norm='l2')\n",
    "\n",
    "ridge_model = RidgeClassifier(random_state=0)\n",
    "\n",
    "ridge_pipe = Pipeline([('vectorizer', vectorizer),\n",
    "                 ('classifier', ridge_model)])\n",
    "\n",
    "\n",
    "param_grid = {'classifier__alpha': [0.8, 1.0, 1.2],\n",
    "              'classifier__max_iter': [10_000],\n",
    "              'classifier__max_iter': [10_000],\n",
    "              'classifier__solver':['auto', 'sparse_cg', 'sag']\n",
    "             }\n",
    "\n",
    "grid_search_params = dict(estimator=ridge_pipe,\n",
    "                          param_grid=param_grid,\n",
    "                          verbose=10)\n",
    "\n",
    "ridge_cross_validation = GridSearchCV(**grid_search_params)\n",
    "\n",
    "ridge_cross_validation\n"
   ]
  },
  {
   "cell_type": "code",
   "execution_count": 21,
   "metadata": {
    "scrolled": true
   },
   "outputs": [],
   "source": [
    "#%%time\n",
    "#ridge_cross_validation.fit(X, y)\n",
    "#results = pd.DataFrame(ridge_cross_validation.cv_results_)\n",
    "#results.to_csv(\"ridge_cross_validation.csv\")"
   ]
  },
  {
   "cell_type": "code",
   "execution_count": 22,
   "metadata": {},
   "outputs": [],
   "source": [
    "results = pd.read_csv(\"ridge_cross_validation.csv\")"
   ]
  },
  {
   "cell_type": "code",
   "execution_count": 23,
   "metadata": {},
   "outputs": [
    {
     "data": {
      "text/html": [
       "<div>\n",
       "<style scoped>\n",
       "    .dataframe tbody tr th:only-of-type {\n",
       "        vertical-align: middle;\n",
       "    }\n",
       "\n",
       "    .dataframe tbody tr th {\n",
       "        vertical-align: top;\n",
       "    }\n",
       "\n",
       "    .dataframe thead th {\n",
       "        text-align: right;\n",
       "    }\n",
       "</style>\n",
       "<table border=\"1\" class=\"dataframe\">\n",
       "  <thead>\n",
       "    <tr style=\"text-align: right;\">\n",
       "      <th></th>\n",
       "      <th>Unnamed: 0</th>\n",
       "      <th>mean_fit_time</th>\n",
       "      <th>std_fit_time</th>\n",
       "      <th>mean_score_time</th>\n",
       "      <th>std_score_time</th>\n",
       "      <th>param_classifier__alpha</th>\n",
       "      <th>param_classifier__max_iter</th>\n",
       "      <th>param_classifier__solver</th>\n",
       "      <th>params</th>\n",
       "      <th>split0_test_score</th>\n",
       "      <th>split1_test_score</th>\n",
       "      <th>split2_test_score</th>\n",
       "      <th>split3_test_score</th>\n",
       "      <th>split4_test_score</th>\n",
       "      <th>mean_test_score</th>\n",
       "      <th>std_test_score</th>\n",
       "      <th>rank_test_score</th>\n",
       "    </tr>\n",
       "  </thead>\n",
       "  <tbody>\n",
       "    <tr>\n",
       "      <th>6</th>\n",
       "      <td>6</td>\n",
       "      <td>2.269414</td>\n",
       "      <td>0.038925</td>\n",
       "      <td>0.361831</td>\n",
       "      <td>0.004523</td>\n",
       "      <td>1.2</td>\n",
       "      <td>10000</td>\n",
       "      <td>auto</td>\n",
       "      <td>{'classifier__alpha': 1.2, 'classifier__max_it...</td>\n",
       "      <td>0.516667</td>\n",
       "      <td>0.504167</td>\n",
       "      <td>0.478125</td>\n",
       "      <td>0.482292</td>\n",
       "      <td>0.486458</td>\n",
       "      <td>0.493542</td>\n",
       "      <td>0.014574</td>\n",
       "      <td>1</td>\n",
       "    </tr>\n",
       "    <tr>\n",
       "      <th>7</th>\n",
       "      <td>7</td>\n",
       "      <td>2.282232</td>\n",
       "      <td>0.019176</td>\n",
       "      <td>0.368016</td>\n",
       "      <td>0.041709</td>\n",
       "      <td>1.2</td>\n",
       "      <td>10000</td>\n",
       "      <td>sparse_cg</td>\n",
       "      <td>{'classifier__alpha': 1.2, 'classifier__max_it...</td>\n",
       "      <td>0.516667</td>\n",
       "      <td>0.504167</td>\n",
       "      <td>0.478125</td>\n",
       "      <td>0.482292</td>\n",
       "      <td>0.486458</td>\n",
       "      <td>0.493542</td>\n",
       "      <td>0.014574</td>\n",
       "      <td>1</td>\n",
       "    </tr>\n",
       "    <tr>\n",
       "      <th>8</th>\n",
       "      <td>8</td>\n",
       "      <td>2.343749</td>\n",
       "      <td>0.068182</td>\n",
       "      <td>0.371394</td>\n",
       "      <td>0.035085</td>\n",
       "      <td>1.2</td>\n",
       "      <td>10000</td>\n",
       "      <td>sag</td>\n",
       "      <td>{'classifier__alpha': 1.2, 'classifier__max_it...</td>\n",
       "      <td>0.516667</td>\n",
       "      <td>0.504167</td>\n",
       "      <td>0.478125</td>\n",
       "      <td>0.482292</td>\n",
       "      <td>0.486458</td>\n",
       "      <td>0.493542</td>\n",
       "      <td>0.014574</td>\n",
       "      <td>1</td>\n",
       "    </tr>\n",
       "  </tbody>\n",
       "</table>\n",
       "</div>"
      ],
      "text/plain": [
       "   Unnamed: 0  mean_fit_time  std_fit_time  mean_score_time  std_score_time  \\\n",
       "6           6       2.269414      0.038925         0.361831        0.004523   \n",
       "7           7       2.282232      0.019176         0.368016        0.041709   \n",
       "8           8       2.343749      0.068182         0.371394        0.035085   \n",
       "\n",
       "   param_classifier__alpha  param_classifier__max_iter  \\\n",
       "6                      1.2                       10000   \n",
       "7                      1.2                       10000   \n",
       "8                      1.2                       10000   \n",
       "\n",
       "  param_classifier__solver                                             params  \\\n",
       "6                     auto  {'classifier__alpha': 1.2, 'classifier__max_it...   \n",
       "7                sparse_cg  {'classifier__alpha': 1.2, 'classifier__max_it...   \n",
       "8                      sag  {'classifier__alpha': 1.2, 'classifier__max_it...   \n",
       "\n",
       "   split0_test_score  split1_test_score  split2_test_score  split3_test_score  \\\n",
       "6           0.516667           0.504167           0.478125           0.482292   \n",
       "7           0.516667           0.504167           0.478125           0.482292   \n",
       "8           0.516667           0.504167           0.478125           0.482292   \n",
       "\n",
       "   split4_test_score  mean_test_score  std_test_score  rank_test_score  \n",
       "6           0.486458         0.493542        0.014574                1  \n",
       "7           0.486458         0.493542        0.014574                1  \n",
       "8           0.486458         0.493542        0.014574                1  "
      ]
     },
     "metadata": {},
     "output_type": "display_data"
    },
    {
     "data": {
      "text/plain": [
       "{6: \"{'classifier__alpha': 1.2, 'classifier__max_iter': 10000, 'classifier__solver': 'auto'}\",\n",
       " 7: \"{'classifier__alpha': 1.2, 'classifier__max_iter': 10000, 'classifier__solver': 'sparse_cg'}\",\n",
       " 8: \"{'classifier__alpha': 1.2, 'classifier__max_iter': 10000, 'classifier__solver': 'sag'}\"}"
      ]
     },
     "execution_count": 23,
     "metadata": {},
     "output_type": "execute_result"
    }
   ],
   "source": [
    "best = results[results.rank_test_score==1]\n",
    "\n",
    "display(best)\n",
    "dict(best.params)"
   ]
  },
  {
   "cell_type": "markdown",
   "metadata": {},
   "source": [
    "### 3.2 Testing accuracy with best parameters found"
   ]
  },
  {
   "cell_type": "code",
   "execution_count": 24,
   "metadata": {},
   "outputs": [
    {
     "data": {
      "text/plain": [
       "0.5041666666666667"
      ]
     },
     "execution_count": 24,
     "metadata": {},
     "output_type": "execute_result"
    }
   ],
   "source": [
    "model = RidgeClassifier(random_state=0, \n",
    "                        max_iter=10_000, \n",
    "                        alpha=1.2,\n",
    "                        solver='auto')\n",
    "\n",
    "pipe = Pipeline([('vectorizer', vectorizer),                 \n",
    "                 ('classifier', model)])\n",
    "\n",
    "\n",
    "pipe.fit(X_train, y_train)\n",
    "\n",
    "pipe.score(X_test, y_test)"
   ]
  },
  {
   "cell_type": "markdown",
   "metadata": {},
   "source": [
    "## 4. Perceptron classifier\n",
    "### 4.1 Remainder : accuracy from first approach -> 41.04 %"
   ]
  },
  {
   "cell_type": "code",
   "execution_count": 25,
   "metadata": {},
   "outputs": [
    {
     "data": {
      "text/plain": [
       "GridSearchCV(estimator=Pipeline(steps=[('vectorizer',\n",
       "                                        TfidfVectorizer(analyzer='char',\n",
       "                                                        max_df=0.7, min_df=2,\n",
       "                                                        ngram_range=(1, 6),\n",
       "                                                        tokenizer=<function nltk_tokenizer at 0x00000169BE9A60D8>)),\n",
       "                                       ('classifier', Perceptron())]),\n",
       "             param_grid={'classifier__alpha': [0.0001, 0.0003, 0.005]},\n",
       "             verbose=10)"
      ]
     },
     "execution_count": 25,
     "metadata": {},
     "output_type": "execute_result"
    }
   ],
   "source": [
    "from sklearn.linear_model import Perceptron\n",
    "\n",
    "\n",
    "\n",
    "vectorizer = TfidfVectorizer(tokenizer=nltk_tokenizer, \n",
    "                               ngram_range=(1, 6),\n",
    "                               analyzer='char',\n",
    "                            min_df=2,\n",
    "                            max_df=0.7,\n",
    "                            norm='l2')\n",
    "\n",
    "perceptron_model = Perceptron(random_state=0)\n",
    "\n",
    "perceptron_pipe = Pipeline([('vectorizer', vectorizer),\n",
    "                            ('classifier', perceptron_model)])\n",
    "\n",
    "param_grid = {'classifier__alpha': [0.0001, 0.0003, 0.005],\n",
    "             }\n",
    "\n",
    "grid_search_params = dict(estimator=perceptron_pipe,\n",
    "                          param_grid=param_grid,\n",
    "                          verbose=10)\n",
    "\n",
    "perceptron_cross_validation = GridSearchCV(**grid_search_params)\n",
    "\n",
    "perceptron_cross_validation"
   ]
  },
  {
   "cell_type": "code",
   "execution_count": 26,
   "metadata": {
    "scrolled": true
   },
   "outputs": [],
   "source": [
    "#%%time\n",
    "#perceptron_cross_validation.fit(X, y)\n",
    "#results = pd.DataFrame(perceptron_cross_validation.cv_results_)\n",
    "#results.to_csv(\"perceptron_cross_validation.csv\")"
   ]
  },
  {
   "cell_type": "code",
   "execution_count": 27,
   "metadata": {},
   "outputs": [],
   "source": [
    "results = pd.read_csv(\"perceptron_cross_validation.csv\")"
   ]
  },
  {
   "cell_type": "code",
   "execution_count": 28,
   "metadata": {},
   "outputs": [
    {
     "data": {
      "text/html": [
       "<div>\n",
       "<style scoped>\n",
       "    .dataframe tbody tr th:only-of-type {\n",
       "        vertical-align: middle;\n",
       "    }\n",
       "\n",
       "    .dataframe tbody tr th {\n",
       "        vertical-align: top;\n",
       "    }\n",
       "\n",
       "    .dataframe thead th {\n",
       "        text-align: right;\n",
       "    }\n",
       "</style>\n",
       "<table border=\"1\" class=\"dataframe\">\n",
       "  <thead>\n",
       "    <tr style=\"text-align: right;\">\n",
       "      <th></th>\n",
       "      <th>Unnamed: 0</th>\n",
       "      <th>mean_fit_time</th>\n",
       "      <th>std_fit_time</th>\n",
       "      <th>mean_score_time</th>\n",
       "      <th>std_score_time</th>\n",
       "      <th>param_classifier__alpha</th>\n",
       "      <th>params</th>\n",
       "      <th>split0_test_score</th>\n",
       "      <th>split1_test_score</th>\n",
       "      <th>split2_test_score</th>\n",
       "      <th>split3_test_score</th>\n",
       "      <th>split4_test_score</th>\n",
       "      <th>mean_test_score</th>\n",
       "      <th>std_test_score</th>\n",
       "      <th>rank_test_score</th>\n",
       "    </tr>\n",
       "  </thead>\n",
       "  <tbody>\n",
       "    <tr>\n",
       "      <th>0</th>\n",
       "      <td>0</td>\n",
       "      <td>2.717532</td>\n",
       "      <td>0.444137</td>\n",
       "      <td>0.613678</td>\n",
       "      <td>0.242620</td>\n",
       "      <td>0.0001</td>\n",
       "      <td>{'classifier__alpha': 0.0001}</td>\n",
       "      <td>0.470833</td>\n",
       "      <td>0.470833</td>\n",
       "      <td>0.459375</td>\n",
       "      <td>0.458333</td>\n",
       "      <td>0.433333</td>\n",
       "      <td>0.458542</td>\n",
       "      <td>0.013699</td>\n",
       "      <td>1</td>\n",
       "    </tr>\n",
       "    <tr>\n",
       "      <th>1</th>\n",
       "      <td>1</td>\n",
       "      <td>2.970438</td>\n",
       "      <td>0.176216</td>\n",
       "      <td>0.572978</td>\n",
       "      <td>0.055675</td>\n",
       "      <td>0.0003</td>\n",
       "      <td>{'classifier__alpha': 0.0003}</td>\n",
       "      <td>0.470833</td>\n",
       "      <td>0.470833</td>\n",
       "      <td>0.459375</td>\n",
       "      <td>0.458333</td>\n",
       "      <td>0.433333</td>\n",
       "      <td>0.458542</td>\n",
       "      <td>0.013699</td>\n",
       "      <td>1</td>\n",
       "    </tr>\n",
       "    <tr>\n",
       "      <th>2</th>\n",
       "      <td>2</td>\n",
       "      <td>2.899312</td>\n",
       "      <td>0.240260</td>\n",
       "      <td>0.577229</td>\n",
       "      <td>0.036591</td>\n",
       "      <td>0.0050</td>\n",
       "      <td>{'classifier__alpha': 0.005}</td>\n",
       "      <td>0.470833</td>\n",
       "      <td>0.470833</td>\n",
       "      <td>0.459375</td>\n",
       "      <td>0.458333</td>\n",
       "      <td>0.433333</td>\n",
       "      <td>0.458542</td>\n",
       "      <td>0.013699</td>\n",
       "      <td>1</td>\n",
       "    </tr>\n",
       "  </tbody>\n",
       "</table>\n",
       "</div>"
      ],
      "text/plain": [
       "   Unnamed: 0  mean_fit_time  std_fit_time  mean_score_time  std_score_time  \\\n",
       "0           0       2.717532      0.444137         0.613678        0.242620   \n",
       "1           1       2.970438      0.176216         0.572978        0.055675   \n",
       "2           2       2.899312      0.240260         0.577229        0.036591   \n",
       "\n",
       "   param_classifier__alpha                         params  split0_test_score  \\\n",
       "0                   0.0001  {'classifier__alpha': 0.0001}           0.470833   \n",
       "1                   0.0003  {'classifier__alpha': 0.0003}           0.470833   \n",
       "2                   0.0050   {'classifier__alpha': 0.005}           0.470833   \n",
       "\n",
       "   split1_test_score  split2_test_score  split3_test_score  split4_test_score  \\\n",
       "0           0.470833           0.459375           0.458333           0.433333   \n",
       "1           0.470833           0.459375           0.458333           0.433333   \n",
       "2           0.470833           0.459375           0.458333           0.433333   \n",
       "\n",
       "   mean_test_score  std_test_score  rank_test_score  \n",
       "0         0.458542        0.013699                1  \n",
       "1         0.458542        0.013699                1  \n",
       "2         0.458542        0.013699                1  "
      ]
     },
     "metadata": {},
     "output_type": "display_data"
    },
    {
     "data": {
      "text/plain": [
       "{0: \"{'classifier__alpha': 0.0001}\",\n",
       " 1: \"{'classifier__alpha': 0.0003}\",\n",
       " 2: \"{'classifier__alpha': 0.005}\"}"
      ]
     },
     "execution_count": 28,
     "metadata": {},
     "output_type": "execute_result"
    }
   ],
   "source": [
    "best = results[results.rank_test_score==1]\n",
    "\n",
    "display(best)\n",
    "dict(best.params)"
   ]
  },
  {
   "cell_type": "markdown",
   "metadata": {},
   "source": [
    "### 4.2 Testing accuracy with best parameters found\n",
    "An alpha of 0.0001 works well and this is the default parameter. Therefore, we wont specify any parameter for the classifier and use default ones."
   ]
  },
  {
   "cell_type": "code",
   "execution_count": 29,
   "metadata": {},
   "outputs": [
    {
     "data": {
      "text/plain": [
       "0.46770833333333334"
      ]
     },
     "execution_count": 29,
     "metadata": {},
     "output_type": "execute_result"
    }
   ],
   "source": [
    "model = Perceptron()\n",
    "\n",
    "pipe = Pipeline([('vectorizer', vectorizer),                 \n",
    "                 ('classifier', model)])\n",
    "\n",
    "\n",
    "pipe.fit(X_train, y_train)\n",
    "\n",
    "pipe.score(X_test, y_test)"
   ]
  },
  {
   "cell_type": "markdown",
   "metadata": {},
   "source": [
    "Now that we have our models with optimal parameters, we will implement technics (such as pca, scaling, stacking..) and/or additionnal features to improve the accuracy."
   ]
  }
 ],
 "metadata": {
  "kernelspec": {
   "display_name": "Python 3",
   "language": "python",
   "name": "python3"
  },
  "language_info": {
   "codemirror_mode": {
    "name": "ipython",
    "version": 3
   },
   "file_extension": ".py",
   "mimetype": "text/x-python",
   "name": "python",
   "nbconvert_exporter": "python",
   "pygments_lexer": "ipython3",
   "version": "3.7.4"
  }
 },
 "nbformat": 4,
 "nbformat_minor": 2
}
